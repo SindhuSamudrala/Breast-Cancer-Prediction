{
  "nbformat": 4,
  "nbformat_minor": 0,
  "metadata": {
    "colab": {
      "name": "BreastCancer_CompleteFeatures.ipynb",
      "provenance": []
    },
    "kernelspec": {
      "name": "python3",
      "display_name": "Python 3"
    },
    "language_info": {
      "name": "python"
    }
  },
  "cells": [
    {
      "cell_type": "code",
      "metadata": {
        "id": "7o6jmf1qz3LF"
      },
      "source": [
        "import pandas as pd\n",
        "import numpy as np\n",
        "import seaborn as sns\n",
        "import matplotlib.pyplot as plt\n",
        "import warnings\n",
        "warnings.filterwarnings(\"ignore\")\n",
        "\n",
        "plt.style.use('ggplot')"
      ],
      "execution_count": 20,
      "outputs": []
    },
    {
      "cell_type": "code",
      "metadata": {
        "id": "zC1dzpHSz9Lw"
      },
      "source": [
        "import imblearn\n",
        "from imblearn.over_sampling import SMOTE\n",
        "from collections import Counter\n",
        "\n",
        "from sklearn.preprocessing import StandardScaler\n",
        "from sklearn.model_selection import train_test_split\n",
        "from sklearn.preprocessing import StandardScaler\n",
        "from sklearn.pipeline import make_pipeline\n",
        "\n",
        "from sklearn.linear_model import LogisticRegression\n",
        "from sklearn.neighbors import  KNeighborsClassifier\n",
        "from sklearn.ensemble import RandomForestClassifier\n",
        "from sklearn.svm import SVC\n",
        "from sklearn.model_selection import GridSearchCV\n",
        "import xgboost\n",
        "from xgboost import XGBClassifier\n",
        "\n",
        "from sklearn.metrics import accuracy_score, confusion_matrix, precision_score, plot_confusion_matrix, f1_score, recall_score,classification_report"
      ],
      "execution_count": 21,
      "outputs": []
    },
    {
      "cell_type": "code",
      "metadata": {
        "id": "ZzC8TR9dz-6K"
      },
      "source": [
        "df = pd.read_csv(\"BC.csv\")"
      ],
      "execution_count": 22,
      "outputs": []
    },
    {
      "cell_type": "code",
      "metadata": {
        "colab": {
          "base_uri": "https://localhost:8080/",
          "height": 234
        },
        "id": "ZUfZ622_0C7F",
        "outputId": "ee2c2dac-180b-457c-f575-8747e002bd7b"
      },
      "source": [
        "df.head(5)"
      ],
      "execution_count": 23,
      "outputs": [
        {
          "output_type": "execute_result",
          "data": {
            "text/html": [
              "<div>\n",
              "<style scoped>\n",
              "    .dataframe tbody tr th:only-of-type {\n",
              "        vertical-align: middle;\n",
              "    }\n",
              "\n",
              "    .dataframe tbody tr th {\n",
              "        vertical-align: top;\n",
              "    }\n",
              "\n",
              "    .dataframe thead th {\n",
              "        text-align: right;\n",
              "    }\n",
              "</style>\n",
              "<table border=\"1\" class=\"dataframe\">\n",
              "  <thead>\n",
              "    <tr style=\"text-align: right;\">\n",
              "      <th></th>\n",
              "      <th>id</th>\n",
              "      <th>diagnosis</th>\n",
              "      <th>radius_mean</th>\n",
              "      <th>texture_mean</th>\n",
              "      <th>perimeter_mean</th>\n",
              "      <th>area_mean</th>\n",
              "      <th>smoothness_mean</th>\n",
              "      <th>compactness_mean</th>\n",
              "      <th>concavity_mean</th>\n",
              "      <th>concave points_mean</th>\n",
              "      <th>symmetry_mean</th>\n",
              "      <th>fractal_dimension_mean</th>\n",
              "      <th>radius_se</th>\n",
              "      <th>texture_se</th>\n",
              "      <th>perimeter_se</th>\n",
              "      <th>area_se</th>\n",
              "      <th>smoothness_se</th>\n",
              "      <th>compactness_se</th>\n",
              "      <th>concavity_se</th>\n",
              "      <th>concave points_se</th>\n",
              "      <th>symmetry_se</th>\n",
              "      <th>fractal_dimension_se</th>\n",
              "      <th>radius_worst</th>\n",
              "      <th>texture_worst</th>\n",
              "      <th>perimeter_worst</th>\n",
              "      <th>area_worst</th>\n",
              "      <th>smoothness_worst</th>\n",
              "      <th>compactness_worst</th>\n",
              "      <th>concavity_worst</th>\n",
              "      <th>concave points_worst</th>\n",
              "      <th>symmetry_worst</th>\n",
              "      <th>fractal_dimension_worst</th>\n",
              "      <th>Unnamed: 32</th>\n",
              "    </tr>\n",
              "  </thead>\n",
              "  <tbody>\n",
              "    <tr>\n",
              "      <th>0</th>\n",
              "      <td>842302</td>\n",
              "      <td>M</td>\n",
              "      <td>17.99</td>\n",
              "      <td>10.38</td>\n",
              "      <td>122.80</td>\n",
              "      <td>1001.0</td>\n",
              "      <td>0.11840</td>\n",
              "      <td>0.27760</td>\n",
              "      <td>0.3001</td>\n",
              "      <td>0.14710</td>\n",
              "      <td>0.2419</td>\n",
              "      <td>0.07871</td>\n",
              "      <td>1.0950</td>\n",
              "      <td>0.9053</td>\n",
              "      <td>8.589</td>\n",
              "      <td>153.40</td>\n",
              "      <td>0.006399</td>\n",
              "      <td>0.04904</td>\n",
              "      <td>0.05373</td>\n",
              "      <td>0.01587</td>\n",
              "      <td>0.03003</td>\n",
              "      <td>0.006193</td>\n",
              "      <td>25.38</td>\n",
              "      <td>17.33</td>\n",
              "      <td>184.60</td>\n",
              "      <td>2019.0</td>\n",
              "      <td>0.1622</td>\n",
              "      <td>0.6656</td>\n",
              "      <td>0.7119</td>\n",
              "      <td>0.2654</td>\n",
              "      <td>0.4601</td>\n",
              "      <td>0.11890</td>\n",
              "      <td>NaN</td>\n",
              "    </tr>\n",
              "    <tr>\n",
              "      <th>1</th>\n",
              "      <td>842517</td>\n",
              "      <td>M</td>\n",
              "      <td>20.57</td>\n",
              "      <td>17.77</td>\n",
              "      <td>132.90</td>\n",
              "      <td>1326.0</td>\n",
              "      <td>0.08474</td>\n",
              "      <td>0.07864</td>\n",
              "      <td>0.0869</td>\n",
              "      <td>0.07017</td>\n",
              "      <td>0.1812</td>\n",
              "      <td>0.05667</td>\n",
              "      <td>0.5435</td>\n",
              "      <td>0.7339</td>\n",
              "      <td>3.398</td>\n",
              "      <td>74.08</td>\n",
              "      <td>0.005225</td>\n",
              "      <td>0.01308</td>\n",
              "      <td>0.01860</td>\n",
              "      <td>0.01340</td>\n",
              "      <td>0.01389</td>\n",
              "      <td>0.003532</td>\n",
              "      <td>24.99</td>\n",
              "      <td>23.41</td>\n",
              "      <td>158.80</td>\n",
              "      <td>1956.0</td>\n",
              "      <td>0.1238</td>\n",
              "      <td>0.1866</td>\n",
              "      <td>0.2416</td>\n",
              "      <td>0.1860</td>\n",
              "      <td>0.2750</td>\n",
              "      <td>0.08902</td>\n",
              "      <td>NaN</td>\n",
              "    </tr>\n",
              "    <tr>\n",
              "      <th>2</th>\n",
              "      <td>84300903</td>\n",
              "      <td>M</td>\n",
              "      <td>19.69</td>\n",
              "      <td>21.25</td>\n",
              "      <td>130.00</td>\n",
              "      <td>1203.0</td>\n",
              "      <td>0.10960</td>\n",
              "      <td>0.15990</td>\n",
              "      <td>0.1974</td>\n",
              "      <td>0.12790</td>\n",
              "      <td>0.2069</td>\n",
              "      <td>0.05999</td>\n",
              "      <td>0.7456</td>\n",
              "      <td>0.7869</td>\n",
              "      <td>4.585</td>\n",
              "      <td>94.03</td>\n",
              "      <td>0.006150</td>\n",
              "      <td>0.04006</td>\n",
              "      <td>0.03832</td>\n",
              "      <td>0.02058</td>\n",
              "      <td>0.02250</td>\n",
              "      <td>0.004571</td>\n",
              "      <td>23.57</td>\n",
              "      <td>25.53</td>\n",
              "      <td>152.50</td>\n",
              "      <td>1709.0</td>\n",
              "      <td>0.1444</td>\n",
              "      <td>0.4245</td>\n",
              "      <td>0.4504</td>\n",
              "      <td>0.2430</td>\n",
              "      <td>0.3613</td>\n",
              "      <td>0.08758</td>\n",
              "      <td>NaN</td>\n",
              "    </tr>\n",
              "    <tr>\n",
              "      <th>3</th>\n",
              "      <td>84348301</td>\n",
              "      <td>M</td>\n",
              "      <td>11.42</td>\n",
              "      <td>20.38</td>\n",
              "      <td>77.58</td>\n",
              "      <td>386.1</td>\n",
              "      <td>0.14250</td>\n",
              "      <td>0.28390</td>\n",
              "      <td>0.2414</td>\n",
              "      <td>0.10520</td>\n",
              "      <td>0.2597</td>\n",
              "      <td>0.09744</td>\n",
              "      <td>0.4956</td>\n",
              "      <td>1.1560</td>\n",
              "      <td>3.445</td>\n",
              "      <td>27.23</td>\n",
              "      <td>0.009110</td>\n",
              "      <td>0.07458</td>\n",
              "      <td>0.05661</td>\n",
              "      <td>0.01867</td>\n",
              "      <td>0.05963</td>\n",
              "      <td>0.009208</td>\n",
              "      <td>14.91</td>\n",
              "      <td>26.50</td>\n",
              "      <td>98.87</td>\n",
              "      <td>567.7</td>\n",
              "      <td>0.2098</td>\n",
              "      <td>0.8663</td>\n",
              "      <td>0.6869</td>\n",
              "      <td>0.2575</td>\n",
              "      <td>0.6638</td>\n",
              "      <td>0.17300</td>\n",
              "      <td>NaN</td>\n",
              "    </tr>\n",
              "    <tr>\n",
              "      <th>4</th>\n",
              "      <td>84358402</td>\n",
              "      <td>M</td>\n",
              "      <td>20.29</td>\n",
              "      <td>14.34</td>\n",
              "      <td>135.10</td>\n",
              "      <td>1297.0</td>\n",
              "      <td>0.10030</td>\n",
              "      <td>0.13280</td>\n",
              "      <td>0.1980</td>\n",
              "      <td>0.10430</td>\n",
              "      <td>0.1809</td>\n",
              "      <td>0.05883</td>\n",
              "      <td>0.7572</td>\n",
              "      <td>0.7813</td>\n",
              "      <td>5.438</td>\n",
              "      <td>94.44</td>\n",
              "      <td>0.011490</td>\n",
              "      <td>0.02461</td>\n",
              "      <td>0.05688</td>\n",
              "      <td>0.01885</td>\n",
              "      <td>0.01756</td>\n",
              "      <td>0.005115</td>\n",
              "      <td>22.54</td>\n",
              "      <td>16.67</td>\n",
              "      <td>152.20</td>\n",
              "      <td>1575.0</td>\n",
              "      <td>0.1374</td>\n",
              "      <td>0.2050</td>\n",
              "      <td>0.4000</td>\n",
              "      <td>0.1625</td>\n",
              "      <td>0.2364</td>\n",
              "      <td>0.07678</td>\n",
              "      <td>NaN</td>\n",
              "    </tr>\n",
              "  </tbody>\n",
              "</table>\n",
              "</div>"
            ],
            "text/plain": [
              "         id diagnosis  ...  fractal_dimension_worst  Unnamed: 32\n",
              "0    842302         M  ...                  0.11890          NaN\n",
              "1    842517         M  ...                  0.08902          NaN\n",
              "2  84300903         M  ...                  0.08758          NaN\n",
              "3  84348301         M  ...                  0.17300          NaN\n",
              "4  84358402         M  ...                  0.07678          NaN\n",
              "\n",
              "[5 rows x 33 columns]"
            ]
          },
          "metadata": {
            "tags": []
          },
          "execution_count": 23
        }
      ]
    },
    {
      "cell_type": "code",
      "metadata": {
        "id": "ES543Ijr0Mnz"
      },
      "source": [
        "df.drop(['id', 'Unnamed: 32'], axis = 1, inplace = True)"
      ],
      "execution_count": 24,
      "outputs": []
    },
    {
      "cell_type": "code",
      "metadata": {
        "id": "sxZm6uw30QFj"
      },
      "source": [
        "df['diagnosis'] = df['diagnosis'].apply(lambda val: 1 if val == 'M' else 0)"
      ],
      "execution_count": 25,
      "outputs": []
    },
    {
      "cell_type": "code",
      "metadata": {
        "id": "8KJfX9rE0SgV"
      },
      "source": [
        "X = df[df.columns[1:]]\n",
        "y = df[\"diagnosis\"]"
      ],
      "execution_count": 26,
      "outputs": []
    },
    {
      "cell_type": "code",
      "metadata": {
        "colab": {
          "base_uri": "https://localhost:8080/"
        },
        "id": "MeHmH7n80bGL",
        "outputId": "e44ad833-cb8a-40ca-f597-346a69b99785"
      },
      "source": [
        "X_train, X_test, y_train, y_test = train_test_split(X.values, y, test_size = 0.2, random_state = 0)\n",
        "print(f\"Train Data: {X_train.shape}, {y_train.shape}\")\n",
        "print(f\"Test Data: {X_test.shape}, {y_test.shape}\")"
      ],
      "execution_count": 27,
      "outputs": [
        {
          "output_type": "stream",
          "text": [
            "Train Data: (455, 30), (455,)\n",
            "Test Data: (114, 30), (114,)\n"
          ],
          "name": "stdout"
        }
      ]
    },
    {
      "cell_type": "code",
      "metadata": {
        "colab": {
          "base_uri": "https://localhost:8080/"
        },
        "id": "DctLQFN80dt8",
        "outputId": "4f72e381-872f-41fd-b961-e9978672ba0c"
      },
      "source": [
        "counter = Counter(y_train)\n",
        "counter"
      ],
      "execution_count": 28,
      "outputs": [
        {
          "output_type": "execute_result",
          "data": {
            "text/plain": [
              "Counter({0: 290, 1: 165})"
            ]
          },
          "metadata": {
            "tags": []
          },
          "execution_count": 28
        }
      ]
    },
    {
      "cell_type": "code",
      "metadata": {
        "colab": {
          "base_uri": "https://localhost:8080/"
        },
        "id": "fI9gWfgG0gQ_",
        "outputId": "54859251-4858-4d85-f18c-97468b0113e9"
      },
      "source": [
        "upsample = SMOTE()\n",
        "X_train, y_train = upsample.fit_resample(X_train, y_train)\n",
        "counter = Counter(y_train)\n",
        "print(counter)"
      ],
      "execution_count": 29,
      "outputs": [
        {
          "output_type": "stream",
          "text": [
            "Counter({0: 290, 1: 290})\n"
          ],
          "name": "stdout"
        }
      ]
    },
    {
      "cell_type": "code",
      "metadata": {
        "colab": {
          "base_uri": "https://localhost:8080/"
        },
        "id": "zX6VNoSn0iiF",
        "outputId": "950c43fe-fb01-4f07-b91d-d3c27e9cbf01"
      },
      "source": [
        "print(f\"Train Data: {X_train.shape}, {y_train.shape}\")\n",
        "print(f\"Test Data: {X_test.shape}, {y_test.shape}\")"
      ],
      "execution_count": 30,
      "outputs": [
        {
          "output_type": "stream",
          "text": [
            "Train Data: (580, 30), (580,)\n",
            "Test Data: (114, 30), (114,)\n"
          ],
          "name": "stdout"
        }
      ]
    },
    {
      "cell_type": "code",
      "metadata": {
        "colab": {
          "base_uri": "https://localhost:8080/"
        },
        "id": "ALvvZ8RV0k3C",
        "outputId": "3e43b655-2789-4f1c-a3a0-6a32d9b36b7b"
      },
      "source": [
        "log_reg = LogisticRegression()\n",
        "log_reg.fit(X_train, y_train)\n",
        "y_pred = log_reg.predict(X_test)\n",
        "print(accuracy_score(y_train, log_reg.predict(X_train)))"
      ],
      "execution_count": 31,
      "outputs": [
        {
          "output_type": "stream",
          "text": [
            "0.9568965517241379\n"
          ],
          "name": "stdout"
        }
      ]
    },
    {
      "cell_type": "code",
      "metadata": {
        "colab": {
          "base_uri": "https://localhost:8080/"
        },
        "id": "iamYCRCN0nwg",
        "outputId": "25709131-bc73-4779-ccf4-a655b27950b1"
      },
      "source": [
        "log_reg_acc = accuracy_score(y_test, log_reg.predict(X_test))\n",
        "print(log_reg_acc)"
      ],
      "execution_count": 32,
      "outputs": [
        {
          "output_type": "stream",
          "text": [
            "0.9385964912280702\n"
          ],
          "name": "stdout"
        }
      ]
    },
    {
      "cell_type": "code",
      "metadata": {
        "colab": {
          "base_uri": "https://localhost:8080/"
        },
        "id": "JP4C-w4k0pyW",
        "outputId": "6d313e7d-73b4-4b2f-faa9-18b939eeb6bd"
      },
      "source": [
        "print(confusion_matrix(y_test, y_pred))"
      ],
      "execution_count": 33,
      "outputs": [
        {
          "output_type": "stream",
          "text": [
            "[[62  5]\n",
            " [ 2 45]]\n"
          ],
          "name": "stdout"
        }
      ]
    },
    {
      "cell_type": "code",
      "metadata": {
        "colab": {
          "base_uri": "https://localhost:8080/"
        },
        "id": "SjrCYcPM0rrJ",
        "outputId": "b332d68b-3237-4705-ca9d-8452d568f30a"
      },
      "source": [
        "print(classification_report(y_test, y_pred))"
      ],
      "execution_count": 34,
      "outputs": [
        {
          "output_type": "stream",
          "text": [
            "              precision    recall  f1-score   support\n",
            "\n",
            "           0       0.97      0.93      0.95        67\n",
            "           1       0.90      0.96      0.93        47\n",
            "\n",
            "    accuracy                           0.94       114\n",
            "   macro avg       0.93      0.94      0.94       114\n",
            "weighted avg       0.94      0.94      0.94       114\n",
            "\n"
          ],
          "name": "stdout"
        }
      ]
    },
    {
      "cell_type": "code",
      "metadata": {
        "colab": {
          "base_uri": "https://localhost:8080/",
          "height": 752
        },
        "id": "sveLFaU20tPq",
        "outputId": "e2d733d6-1306-4a57-9f11-5450e1f75c86"
      },
      "source": [
        "svm_pipeline = make_pipeline(StandardScaler(), SVC(probability=True))\n",
        "svm_pipeline.fit(X_train, y_train)\n",
        "\n",
        "# Accuray On Test Data\n",
        "predictions = svm_pipeline.predict(X_test)\n",
        "accuracy = accuracy_score(y_test, predictions)\n",
        "print(f\"Accuracy on Test Data: {accuracy*100}%\")\n",
        "print(f\"Precision Score: {precision_score(y_test, predictions)}\")\n",
        "print(f\"Recall Score: {recall_score(y_test, predictions)}\")\n",
        "print(f\"F1 Score: {f1_score(y_test, predictions)}\")\n",
        "plot_confusion_matrix(svm_pipeline, X_test, y_test)\n",
        "plt.title(\"Confusion Matrix for Test Data\")\n",
        "plt.show()\n",
        "\n",
        "print()\n",
        "\n",
        "# Accuray On Whole Data\n",
        "print(\"Accuracy on whole Data\")\n",
        "predictions = svm_pipeline.predict(X.values)\n",
        "accuracy = accuracy_score(y, predictions)\n",
        "print(f\"Accuracy on Whole Data: {accuracy*100}%\")\n",
        "print(f\"Precision Score: {precision_score(y, predictions)}\")\n",
        "print(f\"Recall Score: {recall_score(y, predictions)}\")\n",
        "print(f\"F1 Score: {f1_score(y, predictions)}\")\n",
        "plot_confusion_matrix(svm_pipeline, X.values, y)\n",
        "plt.title(\"Confusion Matrix for Whole Data\")\n",
        "plt.show()"
      ],
      "execution_count": 35,
      "outputs": [
        {
          "output_type": "stream",
          "text": [
            "Accuracy on Test Data: 98.24561403508771%\n",
            "Precision Score: 0.9787234042553191\n",
            "Recall Score: 0.9787234042553191\n",
            "F1 Score: 0.9787234042553191\n"
          ],
          "name": "stdout"
        },
        {
          "output_type": "display_data",
          "data": {
            "image/png": "[encoded data removed]",
            "text/plain": [
              "<Figure size 432x288 with 2 Axes>"
            ]
          },
          "metadata": {
            "tags": []
          }
        },
        {
          "output_type": "stream",
          "text": [
            "\n",
            "Accuracy on whole Data\n",
            "Accuracy on Whole Data: 98.59402460456941%\n",
            "Precision Score: 0.9857142857142858\n",
            "Recall Score: 0.9764150943396226\n",
            "F1 Score: 0.981042654028436\n"
          ],
          "name": "stdout"
        },
        {
          "output_type": "display_data",
          "data": {
            "image/png": "[encoded data removed]",
            "text/plain": [
              "<Figure size 432x288 with 2 Axes>"
            ]
          },
          "metadata": {
            "tags": []
          }
        }
      ]
    },
    {
      "cell_type": "code",
      "metadata": {
        "colab": {
          "base_uri": "https://localhost:8080/"
        },
        "id": "59SmcNo3011z",
        "outputId": "9d579b47-66b2-4d5e-a101-2f214dd2eae0"
      },
      "source": [
        "print(classification_report(y, predictions))"
      ],
      "execution_count": 36,
      "outputs": [
        {
          "output_type": "stream",
          "text": [
            "              precision    recall  f1-score   support\n",
            "\n",
            "           0       0.99      0.99      0.99       357\n",
            "           1       0.99      0.98      0.98       212\n",
            "\n",
            "    accuracy                           0.99       569\n",
            "   macro avg       0.99      0.98      0.98       569\n",
            "weighted avg       0.99      0.99      0.99       569\n",
            "\n"
          ],
          "name": "stdout"
        }
      ]
    },
    {
      "cell_type": "code",
      "metadata": {
        "colab": {
          "base_uri": "https://localhost:8080/",
          "height": 734
        },
        "id": "VFGU8Ew407oj",
        "outputId": "8aafb582-907f-4808-b625-a0d6766a007d"
      },
      "source": [
        "xgb_pipeline = make_pipeline(StandardScaler(), XGBClassifier(random_state = 18))\n",
        "xgb_pipeline.fit(X_train, y_train)\n",
        "\n",
        "# Accuray On Test Data\n",
        "predictions = xgb_pipeline.predict(X_test)\n",
        "accuracy = accuracy_score(y_test, predictions)\n",
        "print(f\"Accuracy on Test Data: {accuracy*100}%\")\n",
        "print(f\"Precision Score: {precision_score(y_test, predictions)}\")\n",
        "print(f\"Recall Score: {recall_score(y_test, predictions)}\")\n",
        "print(f\"F1 Score: {f1_score(y_test, predictions)}\")\n",
        "plot_confusion_matrix(xgb_pipeline, X_test, y_test)\n",
        "plt.title(\"Confusion Matrix for Test Data\")\n",
        "plt.show()\n",
        "\n",
        "print(\"Accuracy on whole data\")\n",
        "\n",
        "# Accuray On Whole Data\n",
        "predictions = xgb_pipeline.predict(X.values)\n",
        "accuracy = accuracy_score(y, predictions)\n",
        "print(f\"Accuracy on Whole Data: {accuracy*100}%\")\n",
        "print(f\"Precision Score: {precision_score(y, predictions)}\")\n",
        "print(f\"Recall Score: {recall_score(y, predictions)}\")\n",
        "print(f\"F1 Score: {f1_score(y, predictions)}\")\n",
        "plot_confusion_matrix(xgb_pipeline, X.values, y)\n",
        "plt.title(\"Confusion Matrix for Whole Data\")\n",
        "plt.show()"
      ],
      "execution_count": 37,
      "outputs": [
        {
          "output_type": "stream",
          "text": [
            "Accuracy on Test Data: 95.6140350877193%\n",
            "Precision Score: 0.9375\n",
            "Recall Score: 0.9574468085106383\n",
            "F1 Score: 0.9473684210526315\n"
          ],
          "name": "stdout"
        },
        {
          "output_type": "display_data",
          "data": {
            "image/png": "[encoded data removed]",
            "text/plain": [
              "<Figure size 432x288 with 2 Axes>"
            ]
          },
          "metadata": {
            "tags": []
          }
        },
        {
          "output_type": "stream",
          "text": [
            "Accuracy on whole data\n",
            "Accuracy on Whole Data: 99.12126537785588%\n",
            "Precision Score: 0.9859154929577465\n",
            "Recall Score: 0.9905660377358491\n",
            "F1 Score: 0.9882352941176472\n"
          ],
          "name": "stdout"
        },
        {
          "output_type": "display_data",
          "data": {
            "image/png": "[encoded data removed]",
            "text/plain": [
              "<Figure size 432x288 with 2 Axes>"
            ]
          },
          "metadata": {
            "tags": []
          }
        }
      ]
    },
    {
      "cell_type": "code",
      "metadata": {
        "colab": {
          "base_uri": "https://localhost:8080/"
        },
        "id": "cpfwIuNr1BS6",
        "outputId": "340b2d40-9833-41c2-8ee9-909f12fcf081"
      },
      "source": [
        "print(classification_report(y, predictions))"
      ],
      "execution_count": 38,
      "outputs": [
        {
          "output_type": "stream",
          "text": [
            "              precision    recall  f1-score   support\n",
            "\n",
            "           0       0.99      0.99      0.99       357\n",
            "           1       0.99      0.99      0.99       212\n",
            "\n",
            "    accuracy                           0.99       569\n",
            "   macro avg       0.99      0.99      0.99       569\n",
            "weighted avg       0.99      0.99      0.99       569\n",
            "\n"
          ],
          "name": "stdout"
        }
      ]
    },
    {
      "cell_type": "code",
      "metadata": {
        "colab": {
          "base_uri": "https://localhost:8080/",
          "height": 752
        },
        "id": "NcV-p0yv1vSd",
        "outputId": "142c88ba-59a0-45f2-9084-75d929755625"
      },
      "source": [
        "lr_pipeline = make_pipeline(StandardScaler(), LogisticRegression())\n",
        "lr_pipeline.fit(X_train, y_train)\n",
        "\n",
        "# Accuray On Test Data\n",
        "predictions = svm_pipeline.predict(X_test)\n",
        "accuracy = accuracy_score(y_test, predictions)\n",
        "print(f\"Accuracy on Test Data: {accuracy*100}%\")\n",
        "print(f\"Precision Score: {precision_score(y_test, predictions)}\")\n",
        "print(f\"Recall Score: {recall_score(y_test, predictions)}\")\n",
        "print(f\"F1 Score: {f1_score(y_test, predictions)}\")\n",
        "plot_confusion_matrix(svm_pipeline, X_test, y_test)\n",
        "plt.title(\"Confusion Matrix for Test Data\")\n",
        "plt.show()\n",
        "\n",
        "print()\n",
        "\n",
        "# Accuray On Whole Data\n",
        "print(\"Accuracy on whole Data\")\n",
        "predictions = svm_pipeline.predict(X.values)\n",
        "accuracy = accuracy_score(y, predictions)\n",
        "print(f\"Accuracy on Whole Data: {accuracy*100}%\")\n",
        "print(f\"Precision Score: {precision_score(y, predictions)}\")\n",
        "print(f\"Recall Score: {recall_score(y, predictions)}\")\n",
        "print(f\"F1 Score: {f1_score(y, predictions)}\")\n",
        "plot_confusion_matrix(svm_pipeline, X.values, y)\n",
        "plt.title(\"Confusion Matrix for Whole Data\")\n",
        "plt.show()"
      ],
      "execution_count": 39,
      "outputs": [
        {
          "output_type": "stream",
          "text": [
            "Accuracy on Test Data: 98.24561403508771%\n",
            "Precision Score: 0.9787234042553191\n",
            "Recall Score: 0.9787234042553191\n",
            "F1 Score: 0.9787234042553191\n"
          ],
          "name": "stdout"
        },
        {
          "output_type": "display_data",
          "data": {
            "image/png": "[encoded data removed]",
            "text/plain": [
              "<Figure size 432x288 with 2 Axes>"
            ]
          },
          "metadata": {
            "tags": []
          }
        },
        {
          "output_type": "stream",
          "text": [
            "\n",
            "Accuracy on whole Data\n",
            "Accuracy on Whole Data: 98.59402460456941%\n",
            "Precision Score: 0.9857142857142858\n",
            "Recall Score: 0.9764150943396226\n",
            "F1 Score: 0.981042654028436\n"
          ],
          "name": "stdout"
        },
        {
          "output_type": "display_data",
          "data": {
            "image/png": "[encoded data removed]",
            "text/plain": [
              "<Figure size 432x288 with 2 Axes>"
            ]
          },
          "metadata": {
            "tags": []
          }
        }
      ]
    },
    {
      "cell_type": "code",
      "metadata": {
        "id": "ehZj7_kpNhLh"
      },
      "source": [
        ""
      ],
      "execution_count": null,
      "outputs": []
    }
  ]
}